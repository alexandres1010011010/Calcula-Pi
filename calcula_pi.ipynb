{
 "cells": [
  {
   "cell_type": "code",
   "execution_count": 2,
   "id": "c602fd92-8c1a-46fd-9efb-b5842f104e20",
   "metadata": {},
   "outputs": [],
   "source": [
    "import math as m\n",
    "import random as rd\n",
    "def calcula_pi(N_points = 10000):\n",
    "    pi_math_lib = m.pi\n",
    "    rd.seed()\n",
    "    cont_in = 0\n",
    "    for i in range(N_points):\n",
    "        x_cord = rd.uniform(0,1)\n",
    "        y_cord = rd.uniform(0,1)\n",
    "        if x_cord**2 + y_cord**2 < 1:\n",
    "            cont_in += 1\n",
    "    calc_pi = 4 * (cont_in / N_points)\n",
    "    print(f\"Calculated value of π: {calc_pi}\")\n",
    "    print(f\"Value of π from math library: {pi_math_lib}\")\n",
    "    print(f\"Difference: {calc_pi - pi_math_lib}\")"
   ]
  },
  {
   "cell_type": "code",
   "execution_count": 3,
   "id": "5bdbd4c5-2523-47f7-ac6f-4602319fa22f",
   "metadata": {},
   "outputs": [
    {
     "name": "stdout",
     "output_type": "stream",
     "text": [
      "Calculated value of π: 3.142128\n",
      "Value of π from math library: 3.141592653589793\n",
      "Difference: 0.0005353464102069161\n"
     ]
    }
   ],
   "source": [
    "calcula_pi(1000000)"
   ]
  },
  {
   "cell_type": "code",
   "execution_count": null,
   "id": "f92e2e40-c61d-430c-bad0-3b585b01813e",
   "metadata": {},
   "outputs": [],
   "source": []
  }
 ],
 "metadata": {
  "kernelspec": {
   "display_name": "Python 3 (ipykernel)",
   "language": "python",
   "name": "python3"
  },
  "language_info": {
   "codemirror_mode": {
    "name": "ipython",
    "version": 3
   },
   "file_extension": ".py",
   "mimetype": "text/x-python",
   "name": "python",
   "nbconvert_exporter": "python",
   "pygments_lexer": "ipython3",
   "version": "3.9.12"
  }
 },
 "nbformat": 4,
 "nbformat_minor": 5
}
